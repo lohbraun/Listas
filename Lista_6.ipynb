{
  "nbformat": 4,
  "nbformat_minor": 0,
  "metadata": {
    "colab": {
      "provenance": [],
      "authorship_tag": "ABX9TyN0GOGEeN3+WViN+8jv/nHi",
      "include_colab_link": true
    },
    "kernelspec": {
      "name": "python3",
      "display_name": "Python 3"
    },
    "language_info": {
      "name": "python"
    }
  },
  "cells": [
    {
      "cell_type": "markdown",
      "metadata": {
        "id": "view-in-github",
        "colab_type": "text"
      },
      "source": [
        "<a href=\"https://colab.research.google.com/github/lohbraun/Listas/blob/main/Lista_6.ipynb\" target=\"_parent\"><img src=\"https://colab.research.google.com/assets/colab-badge.svg\" alt=\"Open In Colab\"/></a>"
      ]
    },
    {
      "cell_type": "code",
      "execution_count": null,
      "metadata": {
        "id": "biRT_nLalbog"
      },
      "outputs": [],
      "source": [
        "class Assinatura:\n",
        "    def calcular_preco(self):\n",
        "        pass\n",
        "\n",
        "    def exibir_detalhes(self):\n",
        "        pass\n",
        "\n",
        "class AssinaturaSimples(Assinatura):\n",
        "    def calcular_preco(self):\n",
        "        return 29.99\n",
        "\n",
        "    def exibir_detalhes(self):\n",
        "        print(\"Assinatura Simples: Acesso a filmes e séries em qualidade padrão.\")\n",
        "\n",
        "class AssinaturaPremium(Assinatura):\n",
        "    def calcular_preco(self):\n",
        "        return 49.99\n",
        "\n",
        "    def exibir_detalhes(self):\n",
        "        print(\"Assinatura Premium: Acesso a filmes e séries em qualidade HD e Ultra HD.\")\n",
        "\n",
        "# Criar instâncias de cada assinatura\n",
        "assinatura_simples = AssinaturaSimples()\n",
        "assinatura_premium = AssinaturaPremium()\n",
        "\n",
        "# Adicionar as instâncias ao array assinaturas\n",
        "assinaturas = [assinatura_simples, assinatura_premium]\n",
        "\n",
        "# Percorrer o array e exibir informações\n",
        "for assinatura in assinaturas:\n",
        "    print(f\"Tipo de Assinatura: {assinatura.__class__.__name__}\")\n",
        "    print(f\"Preço: R$ {assinatura.calcular_preco():.2f}\")\n",
        "    assinatura.exibir_detalhes()\n",
        "    print(\"-----\")"
      ]
    },
    {
      "cell_type": "code",
      "source": [
        "class UnidadeMilitar:\n",
        "    def mover(self):\n",
        "        pass\n",
        "\n",
        "    def atacar(self):\n",
        "        pass\n",
        "\n",
        "class Soldado(UnidadeMilitar):\n",
        "    def mover(self):\n",
        "        print(\"Soldado está marchando para a frente.\")\n",
        "\n",
        "    def atacar(self):\n",
        "        print(\"Soldado está atacando com sua espada.\")\n",
        "\n",
        "class Arqueiro(UnidadeMilitar):\n",
        "    def mover(self):\n",
        "        print(\"Arqueiro está se posicionando para atirar.\")\n",
        "\n",
        "    def atacar(self):\n",
        "        print(\"Arqueiro está disparando flechas.\")\n",
        "\n",
        "class Cavaleiro(UnidadeMilitar):\n",
        "    def mover(self):\n",
        "        print(\"Cavaleiro está carregando velozmente pelo campo.\")\n",
        "\n",
        "    def atacar(self):\n",
        "        print(\"Cavaleiro está investindo com sua lança.\")\n",
        "\n",
        "# Criar instâncias de cada unidade\n",
        "soldado1 = Soldado()\n",
        "arqueiro1 = Arqueiro()\n",
        "cavaleiro1 = Cavaleiro()\n",
        "\n",
        "# Adicionar as instâncias à lista unidades\n",
        "unidades = [soldado1, arqueiro1, cavaleiro1]\n",
        "\n",
        "# Percorrer a lista e chamar os métodos\n",
        "for unidade in unidades:\n",
        "    unidade.mover()\n",
        "    unidade.atacar()\n",
        "    print(\"-----\")"
      ],
      "metadata": {
        "id": "9oRGD2A4loxB"
      },
      "execution_count": null,
      "outputs": []
    }
  ]
}