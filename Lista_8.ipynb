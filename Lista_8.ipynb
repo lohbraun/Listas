{
  "nbformat": 4,
  "nbformat_minor": 0,
  "metadata": {
    "colab": {
      "provenance": [],
      "authorship_tag": "ABX9TyM8Ye92Iy6FkNhDR25ZdTAH",
      "include_colab_link": true
    },
    "kernelspec": {
      "name": "python3",
      "display_name": "Python 3"
    },
    "language_info": {
      "name": "python"
    }
  },
  "cells": [
    {
      "cell_type": "markdown",
      "metadata": {
        "id": "view-in-github",
        "colab_type": "text"
      },
      "source": [
        "<a href=\"https://colab.research.google.com/github/lohbraun/Listas/blob/main/Lista_8.ipynb\" target=\"_parent\"><img src=\"https://colab.research.google.com/assets/colab-badge.svg\" alt=\"Open In Colab\"/></a>"
      ]
    },
    {
      "cell_type": "code",
      "execution_count": null,
      "metadata": {
        "id": "hTQAldnwl0sw"
      },
      "outputs": [],
      "source": [
        "import random\n",
        "\n",
        "class Animal:\n",
        "    def __init__(self, nome):\n",
        "        self.nome = nome\n",
        "\n",
        "    def exibirDescricao(self):\n",
        "        print(f\"Animal: {self.nome}\")\n",
        "\n",
        "class Carnivoro(Animal):\n",
        "    def cacar(self):\n",
        "        print(f\"{self.nome} está caçando.\")\n",
        "\n",
        "    def exibirDescricao(self):\n",
        "        super().exibirDescricao()\n",
        "        print(\"Este é um animal carnívoro.\")\n",
        "\n",
        "class Herbivoro(Animal):\n",
        "    def pastar(self):\n",
        "        print(f\"{self.nome} está pastando.\")\n",
        "\n",
        "    def exibirDescricao(self):\n",
        "        super().exibirDescricao()\n",
        "        print(\"Este é um animal herbívoro.\")\n",
        "\n",
        "class Onivoro(Carnivoro, Herbivoro):\n",
        "    def comer(self):\n",
        "        escolha = random.randint(0, 1)\n",
        "        if escolha == 0:\n",
        "            self.cacar()\n",
        "        else:\n",
        "            self.pastar()\n",
        "\n",
        "    def exibirDescricao(self):\n",
        "        super().exibirDescricao()\n",
        "        print(\"Este é um animal onívoro.\")\n",
        "\n",
        "# Exemplo de uso\n",
        "leao = Carnivoro(\"Leão\")\n",
        "vaca = Herbivoro(\"Vaca\")\n",
        "urso = Onivoro(\"Urso\")\n",
        "\n",
        "leao.exibirDescricao()\n",
        "leao.cacar()\n",
        "\n",
        "print(\"-----\")\n",
        "\n",
        "vaca.exibirDescricao()\n",
        "vaca.pastar()\n",
        "\n",
        "print(\"-----\")\n",
        "\n",
        "urso.exibirDescricao()\n",
        "urso.comer()"
      ]
    }
  ]
}